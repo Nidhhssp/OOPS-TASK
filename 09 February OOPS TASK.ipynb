{
 "cells": [
  {
   "cell_type": "markdown",
   "id": "730f9b4c",
   "metadata": {},
   "source": [
    "# Assignment"
   ]
  },
  {
   "cell_type": "markdown",
   "id": "d08aa4eb",
   "metadata": {},
   "source": [
    "## Q1. Create a vehicle class with an init method having instance variables as name_of_vehicle, max_speed and average_of_vehicle.\n",
    "## Answer:"
   ]
  },
  {
   "cell_type": "code",
   "execution_count": 1,
   "id": "ac0c9050",
   "metadata": {},
   "outputs": [],
   "source": [
    "class Vehicle:\n",
    "    def __init__(self,name_of_vehicle,max_speed,average_of_vehicle):\n",
    "        self._name_of_vehicle = name_of_vehicle\n",
    "        self._max_speed = max_speed\n",
    "        self._average_of_vehicle = average_of_vehicle \n",
    "    def name(self,name_of_vehicle):\n",
    "        return name_of_vehicle \n",
    "    def speed(self,max_speed):\n",
    "        return max_speed \n",
    "    def average(self,average_of_vehicle):\n",
    "        return average_of_vehicle \n",
    "    \n",
    "    "
   ]
  },
  {
   "cell_type": "markdown",
   "id": "4ce4e1d1",
   "metadata": {},
   "source": [
    "## Q2. Create a child class car from the vehicle class created in Que 1, which will inherit the vehicle class.\n",
    "## Create a method named seating_capacity which takes capacity as an argument and returns the name of the vehicle and its seating capacity.\n",
    "## Answer:"
   ]
  },
  {
   "cell_type": "code",
   "execution_count": 2,
   "id": "dd89b81d",
   "metadata": {},
   "outputs": [
    {
     "name": "stdout",
     "output_type": "stream",
     "text": [
      "Name of the Vehicle: Maruti\n",
      "Capacity of Car Seating: 5\n"
     ]
    }
   ],
   "source": [
    "class Car(Vehicle):\n",
    "    def __init__(self,capacity):\n",
    "        self._capacity=capacity\n",
    " \n",
    "    def seating_capacity(self, capacity):\n",
    "        return capacity\n",
    "  \n",
    "obj=Car(5)\n",
    "print(\"Name of the Vehicle:\",obj.name(\"Maruti\"))\n",
    "print(\"Capacity of Car Seating:\",obj.seating_capacity(5))"
   ]
  },
  {
   "cell_type": "markdown",
   "id": "58aab203",
   "metadata": {},
   "source": [
    "## Q3. What is multiple inheritance? Write a python code to demonstrate multiple inheritance.\n",
    "## Answer:"
   ]
  },
  {
   "cell_type": "markdown",
   "id": "326948cc",
   "metadata": {},
   "source": [
    "## Multiple Inheritance \n",
    "When a class is derived from more than one base class it is called multiple Inheritance. The derived class inherits all the features of the base case.\n",
    "### Syntax:\n",
    "\n",
    "Class Base1:\n",
    "       Body of the class\n",
    "\n",
    "Class Base2:\n",
    "     Body of the class\n",
    "\n",
    "Class Derived(Base1, Base2):\n",
    "     Body of the class"
   ]
  },
  {
   "cell_type": "code",
   "execution_count": 3,
   "id": "acbae314",
   "metadata": {},
   "outputs": [
    {
     "name": "stdout",
     "output_type": "stream",
     "text": [
      "In Class2\n"
     ]
    }
   ],
   "source": [
    "class Class1:\n",
    "\tdef m(self):\n",
    "\t\tprint(\"In Class1\") \n",
    "\t\n",
    "class Class2(Class1):\n",
    "\tdef m(self):\n",
    "\t\tprint(\"In Class2\")\n",
    "\n",
    "class Class3(Class1):\n",
    "\tdef m(self):\n",
    "\t\tprint(\"In Class3\") \n",
    "\t\t\n",
    "class Class4(Class2, Class3):\n",
    "\tpass\n",
    "\t\n",
    "obj = Class4()\n",
    "obj.m()\n"
   ]
  },
  {
   "cell_type": "markdown",
   "id": "1eac93f6",
   "metadata": {},
   "source": [
    "## Q4. What are getter and setter in python? Create a class and create a getter and a setter method in this class.\n",
    "## Answer:"
   ]
  },
  {
   "cell_type": "markdown",
   "id": "8fb574a9",
   "metadata": {},
   "source": [
    "### Getter\n",
    "Getters are the methods that are used in Object-Oriented Programming (OOPS) to access a class's private attributes. The setattr() function in Python corresponds to the getattr() function in Python. It alters an object's attribute values.\n",
    "### Setter\n",
    "The setter is a method that is used to set the property's value. It is very useful in object-oriented programming to set the value of private attributes in a class."
   ]
  },
  {
   "cell_type": "code",
   "execution_count": 4,
   "id": "b1dc393a",
   "metadata": {},
   "outputs": [
    {
     "name": "stdout",
     "output_type": "stream",
     "text": [
      "21\n",
      "21\n"
     ]
    }
   ],
   "source": [
    "class A: \n",
    "\tdef __init__(self, age = 0): \n",
    "\t\tself._age = age \n",
    "\t\n",
    "\t# getter method \n",
    "\tdef get_age(self): \n",
    "\t\treturn self._age \n",
    "\t\n",
    "\t# setter method \n",
    "\tdef set_age(self, x): \n",
    "\t\tself._age = x \n",
    "\n",
    "raj = A() \n",
    "\n",
    "raj.set_age(21) \n",
    "\n",
    "print(raj.get_age()) \n",
    "\n",
    "print(raj._age) \n"
   ]
  },
  {
   "cell_type": "markdown",
   "id": "79019488",
   "metadata": {},
   "source": [
    "## Q5.What is method overriding in python? Write a python code to demonstrate method overriding.\n",
    "## Answer:"
   ]
  },
  {
   "cell_type": "markdown",
   "id": "1fd7e70e",
   "metadata": {},
   "source": [
    "## Method Overriding \n",
    "Method overriding in Python allows a subclass or child class to provide a specific implementation of a method that is already provided by one of its superclasses or parent classes. When a method in a subclass has the same name, same parameters, and same return type as a method in its super-class, it is considered to override the method in the super-class1. \n",
    "\n"
   ]
  },
  {
   "cell_type": "code",
   "execution_count": 5,
   "id": "2a8159ba",
   "metadata": {},
   "outputs": [
    {
     "name": "stdout",
     "output_type": "stream",
     "text": [
      "Inside Parent\n",
      "Inside Child\n"
     ]
    }
   ],
   "source": [
    "class Parent:\n",
    "    def __init__(self):\n",
    "        self.value = \"Inside Parent\"\n",
    "    def show(self):\n",
    "        print(self.value)\n",
    "\n",
    "class Child(Parent):\n",
    "    def __init__(self):\n",
    "        self.value = \"Inside Child\"\n",
    "    def show(self):\n",
    "        print(self.value)\n",
    "\n",
    "obj1 = Parent()\n",
    "obj2 = Child()\n",
    "obj1.show()  # Output: Inside Parent\n",
    "obj2.show()  # Output: Inside Child"
   ]
  }
 ],
 "metadata": {
  "kernelspec": {
   "display_name": "Python 3 (ipykernel)",
   "language": "python",
   "name": "python3"
  },
  "language_info": {
   "codemirror_mode": {
    "name": "ipython",
    "version": 3
   },
   "file_extension": ".py",
   "mimetype": "text/x-python",
   "name": "python",
   "nbconvert_exporter": "python",
   "pygments_lexer": "ipython3",
   "version": "3.9.13"
  }
 },
 "nbformat": 4,
 "nbformat_minor": 5
}
